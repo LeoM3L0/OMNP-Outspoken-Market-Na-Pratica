{
 "cells": [
  {
   "cell_type": "code",
   "execution_count": 1,
   "id": "3b489bd6",
   "metadata": {},
   "outputs": [],
   "source": [
    "import numpy as np"
   ]
  },
  {
   "cell_type": "code",
   "execution_count": 2,
   "id": "f4970db1",
   "metadata": {},
   "outputs": [
    {
     "name": "stdout",
     "output_type": "stream",
     "text": [
      "Gerando Numeros Ints Aleatórios\n"
     ]
    },
    {
     "data": {
      "text/plain": [
       "array([95, 60, 91, 31, 20, 66, 76, 70,  9,  7,  7, 29,  2, 85, 91, 70, 63,\n",
       "       54, 21, 94, 56, 95, 65, 28,  9, 45, 67, 82, 97, 69, 29, 26, 30, 52,\n",
       "       40, 85, 48, 58, 77, 79, 83, 78, 19, 43, 73,  9, 67, 55, 40, 12],\n",
       "      dtype=int32)"
      ]
     },
     "execution_count": 2,
     "metadata": {},
     "output_type": "execute_result"
    }
   ],
   "source": [
    "print(\"Gerando Numeros Ints Aleatórios\")\n",
    "\n",
    "int_numbers = np.random.randint(1, 101, size=50)\n",
    "int_numbers"
   ]
  },
  {
   "cell_type": "code",
   "execution_count": null,
   "id": "a0e4193c",
   "metadata": {},
   "outputs": [
    {
     "data": {
      "text/plain": [
       "array([ 2,  7,  7,  9,  9,  9, 12, 19, 20, 21, 26, 28, 29, 29, 30, 31, 40,\n",
       "       40, 43, 45, 48, 52, 54, 55, 56, 58, 60, 63, 65, 66, 67, 67, 69, 70,\n",
       "       70, 73, 76, 77, 78, 79, 82, 83, 85, 85, 91, 91, 94, 95, 95, 97],\n",
       "      dtype=int32)"
      ]
     },
     "execution_count": 3,
     "metadata": {},
     "output_type": "execute_result"
    }
   ],
   "source": [
    "# Ordenando o Array\n",
    "int_numbers.sort() # Ordena de forma crescente\n",
    "int_numbers"
   ]
  },
  {
   "cell_type": "code",
   "execution_count": 4,
   "id": "981f6b6d",
   "metadata": {},
   "outputs": [
    {
     "data": {
      "text/plain": [
       "array([ 2,  7,  7,  9,  9,  9, 12, 19, 20, 21], dtype=int32)"
      ]
     },
     "execution_count": 4,
     "metadata": {},
     "output_type": "execute_result"
    }
   ],
   "source": [
    "# Selecionando elementos do array com base no índice\n",
    "\n",
    "#Primerios 10\n",
    "int_numbers[:10]"
   ]
  },
  {
   "cell_type": "code",
   "execution_count": 5,
   "id": "8a2e47a9",
   "metadata": {},
   "outputs": [
    {
     "data": {
      "text/plain": [
       "array([31, 40, 40, 43, 45, 48, 52, 54, 55, 56, 58, 60, 63, 65, 66, 67, 67,\n",
       "       69, 70, 70, 73, 76, 77, 78, 79, 82, 83, 85, 85, 91, 91, 94, 95, 95,\n",
       "       97], dtype=int32)"
      ]
     },
     "execution_count": 5,
     "metadata": {},
     "output_type": "execute_result"
    }
   ],
   "source": [
    "# Selecionando o que vem depois dos 15 primeiros elementos\n",
    "int_numbers[15:]"
   ]
  },
  {
   "cell_type": "code",
   "execution_count": 6,
   "id": "303fc81f",
   "metadata": {},
   "outputs": [
    {
     "data": {
      "text/plain": [
       "array([ 2,  7,  9, 12, 20, 26, 29, 30, 40, 43, 48, 54, 56, 60, 65, 67, 69,\n",
       "       70, 76, 78, 82, 85, 91, 94, 95], dtype=int32)"
      ]
     },
     "execution_count": 6,
     "metadata": {},
     "output_type": "execute_result"
    }
   ],
   "source": [
    "# Selecionando os elementos de 2 em 2\n",
    "int_numbers[::2]"
   ]
  },
  {
   "cell_type": "code",
   "execution_count": 7,
   "id": "947d6bb9",
   "metadata": {},
   "outputs": [
    {
     "data": {
      "text/plain": [
       "array([97, 95, 95, 94, 91, 91, 85, 85, 83, 82, 79, 78, 77, 76, 73, 70, 70,\n",
       "       69, 67, 67, 66, 65, 63, 60, 58, 56, 55, 54, 52, 48, 45, 43, 40, 40,\n",
       "       31, 30, 29, 29, 28, 26, 21, 20, 19, 12,  9,  9,  9,  7,  7,  2],\n",
       "      dtype=int32)"
      ]
     },
     "execution_count": 7,
     "metadata": {},
     "output_type": "execute_result"
    }
   ],
   "source": [
    "# Sort decrescente\n",
    "int_numbers[::-1]"
   ]
  },
  {
   "cell_type": "code",
   "execution_count": 8,
   "id": "990a1d9c",
   "metadata": {},
   "outputs": [
    {
     "data": {
      "text/plain": [
       "array([31, 40, 40, 43, 45], dtype=int32)"
      ]
     },
     "execution_count": 8,
     "metadata": {},
     "output_type": "execute_result"
    }
   ],
   "source": [
    "# Selecionando Elementos entre o índice 15 e 20\n",
    "int_numbers[15:20]"
   ]
  },
  {
   "cell_type": "code",
   "execution_count": 9,
   "id": "61e5b07b",
   "metadata": {},
   "outputs": [
    {
     "data": {
      "text/plain": [
       "array([31, 40, 45, 52, 55, 58, 63, 66, 67, 70, 73, 77, 79, 83, 85, 91, 95,\n",
       "       97], dtype=int32)"
      ]
     },
     "execution_count": 9,
     "metadata": {},
     "output_type": "execute_result"
    }
   ],
   "source": [
    "# Selecionando elementos a partir do índice 15 de 2 em 2\n",
    "int_numbers[15::2]"
   ]
  },
  {
   "cell_type": "code",
   "execution_count": 19,
   "id": "a305d75e",
   "metadata": {},
   "outputs": [],
   "source": [
    "# Mas para que serve  mesmo tudo isso ?\n",
    "\n",
    "# Vamos calcular a média movel de uma seguencia de preços\n",
    "\n",
    "def media_movel(array, n = 5): # n é o período\n",
    "    valores = np.cumsum(array, dtype=float) # cumsum é a soma acumulado dos numeros do array\n",
    "    valores [n:] = valores[n:] - valores[:-n]\n",
    "    \n",
    "    return valores[n - 1:] / n"
   ]
  },
  {
   "cell_type": "code",
   "execution_count": 11,
   "id": "e9c5595f",
   "metadata": {},
   "outputs": [
    {
     "data": {
      "text/plain": [
       "array([2680.36, 9519.26, 5243.  ,  537.74, 8858.07, 4533.3 , 4807.56,\n",
       "       9145.75, 3366.52, 1197.28, 3487.79, 3825.69, 4730.35,  516.01,\n",
       "       8705.81, 4950.05, 9638.59, 9660.05, 3591.7 , 9542.2 , 4858.49,\n",
       "       4999.64, 2594.11,  687.13, 5093.39, 9140.56, 7307.7 , 7507.54,\n",
       "       8863.15, 2022.95, 8023.39, 6328.96, 4781.61, 5280.69, 3462.24,\n",
       "       1167.05, 2379.53, 9999.52, 7683.01, 6132.46, 5972.22, 2483.94,\n",
       "       4101.53, 9698.98, 6602.19, 1526.24, 7443.07, 1152.63, 4722.49,\n",
       "       9950.39, 5917.16, 8608.32, 9985.08, 5457.39, 2529.19, 9682.63,\n",
       "        698.4 , 6353.58, 1402.12, 9801.88, 8470.58, 4189.14, 2318.57,\n",
       "       7231.4 , 3261.15, 7685.13,  373.6 , 9790.16, 4638.89, 9076.87,\n",
       "       7464.83,  288.67, 4655.78, 2532.32, 4600.38,  363.04, 3351.  ,\n",
       "       8305.48, 4611.59, 4165.81, 3289.94,  241.46, 2466.29, 6223.  ,\n",
       "       8505.52, 5021.07, 6230.82, 1820.58, 6967.05, 2109.96,  208.28,\n",
       "       1494.78, 5197.08, 2964.55, 1283.15, 3498.03, 7093.23, 7709.76,\n",
       "       2821.29, 8412.36])"
      ]
     },
     "execution_count": 11,
     "metadata": {},
     "output_type": "execute_result"
    }
   ],
   "source": [
    "# Simulando um array de preços\n",
    "\n",
    "precos = np.random.uniform(10,10000, size=100).round(2)\n",
    "\n",
    "precos"
   ]
  },
  {
   "cell_type": "code",
   "execution_count": 12,
   "id": "895e79a7",
   "metadata": {},
   "outputs": [
    {
     "data": {
      "text/plain": [
       "array([ 208.28,  241.46,  288.67,  363.04,  373.6 ,  516.01,  537.74,\n",
       "        687.13,  698.4 , 1152.63, 1167.05, 1197.28, 1283.15, 1402.12,\n",
       "       1494.78, 1526.24, 1820.58, 2022.95, 2109.96, 2318.57, 2379.53,\n",
       "       2466.29, 2483.94, 2529.19, 2532.32, 2594.11, 2680.36, 2821.29,\n",
       "       2964.55, 3261.15, 3289.94, 3351.  , 3366.52, 3462.24, 3487.79,\n",
       "       3498.03, 3591.7 , 3825.69, 4101.53, 4165.81, 4189.14, 4533.3 ,\n",
       "       4600.38, 4611.59, 4638.89, 4655.78, 4722.49, 4730.35, 4781.61,\n",
       "       4807.56, 4858.49, 4950.05, 4999.64, 5021.07, 5093.39, 5197.08,\n",
       "       5243.  , 5280.69, 5457.39, 5917.16, 5972.22, 6132.46, 6223.  ,\n",
       "       6230.82, 6328.96, 6353.58, 6602.19, 6967.05, 7093.23, 7231.4 ,\n",
       "       7307.7 , 7443.07, 7464.83, 7507.54, 7683.01, 7685.13, 7709.76,\n",
       "       8023.39, 8305.48, 8412.36, 8470.58, 8505.52, 8608.32, 8705.81,\n",
       "       8858.07, 8863.15, 9076.87, 9140.56, 9145.75, 9519.26, 9542.2 ,\n",
       "       9638.59, 9660.05, 9682.63, 9698.98, 9790.16, 9801.88, 9950.39,\n",
       "       9985.08, 9999.52])"
      ]
     },
     "execution_count": 12,
     "metadata": {},
     "output_type": "execute_result"
    }
   ],
   "source": [
    "# Ajustando o Array de preços\n",
    "precos.sort()\n",
    "\n",
    "precos"
   ]
  },
  {
   "cell_type": "code",
   "execution_count": 13,
   "id": "853c6cce",
   "metadata": {},
   "outputs": [],
   "source": [
    "# Definindo pereiodo média movel\n",
    "\n",
    "periodo = 8"
   ]
  },
  {
   "cell_type": "code",
   "execution_count": 20,
   "id": "b9d25d43",
   "metadata": {},
   "outputs": [
    {
     "data": {
      "text/plain": [
       "array([ 401.99,  463.26,  577.15,  686.95,  791.23,  904.92, 1015.69,\n",
       "       1135.32, 1240.21, 1380.48, 1489.27, 1607.13, 1747.29, 1884.34,\n",
       "       2017.36, 2141.01, 2266.38, 2355.34, 2426.74, 2498.04, 2560.88,\n",
       "       2634.01, 2733.36, 2834.11, 2936.84, 3041.12, 3149.63, 3250.56,\n",
       "       3335.15, 3413.55, 3484.11, 3585.56, 3687.41, 3790.24, 3924.12,\n",
       "       4063.2 , 4202.39, 4333.29, 4437.05, 4514.67, 4585.24, 4659.3 ,\n",
       "       4693.58, 4725.85, 4768.15, 4813.25, 4858.91, 4905.27, 4963.61,\n",
       "       5021.29, 5080.43, 5155.29, 5276.18, 5397.75, 5536.67, 5677.88,\n",
       "       5807.09, 5942.84, 6076.95, 6220.05, 6351.28, 6491.41, 6628.78,\n",
       "       6764.37, 6915.9 , 7057.88, 7202.13, 7337.23, 7426.99, 7504.06,\n",
       "       7603.05, 7727.78, 7848.94, 7974.66, 8099.4 , 8215.07, 8342.65,\n",
       "       8486.19, 8591.16, 8687.59, 8778.61, 8863.01, 8989.72, 9106.46,\n",
       "       9223.06, 9323.3 , 9425.74, 9503.5 , 9584.7 , 9666.72, 9720.61,\n",
       "       9775.97, 9821.09])"
      ]
     },
     "execution_count": 20,
     "metadata": {},
     "output_type": "execute_result"
    }
   ],
   "source": [
    "mediamovel = media_movel(precos, n = periodo).round(2)\n",
    "mediamovel\n"
   ]
  },
  {
   "cell_type": "code",
   "execution_count": 21,
   "id": "c593f63d",
   "metadata": {},
   "outputs": [],
   "source": [
    "# Plotando Gráfico\n",
    "%matplotlib inline\n",
    "\n",
    "import matplotlib.pyplot as plt"
   ]
  },
  {
   "cell_type": "code",
   "execution_count": 22,
   "id": "820de410",
   "metadata": {},
   "outputs": [
    {
     "data": {
      "image/png": "[encoded data removed]",
      "text/plain": [
       "<Figure size 640x480 with 1 Axes>"
      ]
     },
     "metadata": {},
     "output_type": "display_data"
    }
   ],
   "source": [
    "plt.plot(range(periodo, periodo + len(mediamovel)), mediamovel, label= 'Média Movel')\n",
    "plt.plot(precos, label = \"Preços\")\n",
    "plt.title(\"Média Movel de 8 periodos da série simulada\")\n",
    "plt.xlabel(\"Periodo\")\n",
    "plt.ylabel(\"Preços\")\n",
    "plt.grid()\n",
    "plt.legend()\n",
    "plt.show()"
   ]
  },
  {
   "cell_type": "code",
   "execution_count": null,
   "id": "edd42138",
   "metadata": {},
   "outputs": [
    {
     "data": {
      "text/plain": [
       "array([[89,  5],\n",
       "       [75, 44],\n",
       "       [63, 15],\n",
       "       [15, 91],\n",
       "       [21, 48],\n",
       "       [90, 93]], dtype=int32)"
      ]
     },
     "execution_count": 39,
     "metadata": {},
     "output_type": "execute_result"
    }
   ],
   "source": [
    "# Concatenando Arrays\n",
    "matriz_1 = np.random.randint(1, 100, size=(2,2))\n",
    "matriz_2 = np.random.randint(1, 100, size=(2,2))\n",
    "matriz_3 = np.random.randint(1, 100, size=(2,2))\n",
    "\n",
    "np.concatenate([matriz_1, matriz_2, matriz_3])\n",
    "\n",
    "# A mesma concatenação serve para vetores\n"
   ]
  },
  {
   "cell_type": "code",
   "execution_count": 40,
   "id": "bf601e8c",
   "metadata": {},
   "outputs": [
    {
     "data": {
      "text/plain": [
       "array([[89,  5, 63, 15, 21, 48],\n",
       "       [75, 44, 15, 91, 90, 93]], dtype=int32)"
      ]
     },
     "execution_count": 40,
     "metadata": {},
     "output_type": "execute_result"
    }
   ],
   "source": [
    "# Também fazer concatenação por linha\n",
    "np.concatenate([matriz_1, matriz_2, matriz_3], axis=1)"
   ]
  },
  {
   "cell_type": "code",
   "execution_count": 41,
   "id": "e6ae29fd",
   "metadata": {},
   "outputs": [
    {
     "data": {
      "text/plain": [
       "array(['Maça', 'Pera', 'Kiwi'], dtype='<U4')"
      ]
     },
     "execution_count": 41,
     "metadata": {},
     "output_type": "execute_result"
    }
   ],
   "source": [
    "lista_produtos = np.array([\"Maça\", \"Pera\", \"Kiwi\"])\n",
    "lista_produtos"
   ]
  },
  {
   "cell_type": "code",
   "execution_count": 45,
   "id": "b48640d9",
   "metadata": {},
   "outputs": [
    {
     "data": {
      "text/plain": [
       "array(['Maça', 'Pera', 'Kiwi', 'Maca Peruana', 'Maca Peruana'],\n",
       "      dtype='<U12')"
      ]
     },
     "execution_count": 45,
     "metadata": {},
     "output_type": "execute_result"
    }
   ],
   "source": [
    "# Append Adiciona nova item ao Array\n",
    "lista_produtos = np.append(lista_produtos, \"Maca Peruana\")\n",
    "lista_produtos"
   ]
  },
  {
   "cell_type": "code",
   "execution_count": 47,
   "id": "73de2519",
   "metadata": {},
   "outputs": [
    {
     "data": {
      "text/plain": [
       "array(['Lucky Strike', 'Maça', 'Pera', 'Kiwi', 'Maca Peruana',\n",
       "       'Maca Peruana'], dtype='<U12')"
      ]
     },
     "execution_count": 47,
     "metadata": {},
     "output_type": "execute_result"
    }
   ],
   "source": [
    "# Inser adiciona um novo item na posição Desejada\n",
    "lista_produtos = np.insert(lista_produtos, 0, \"Lucky Strike\")\n",
    "lista_produtos"
   ]
  },
  {
   "cell_type": "code",
   "execution_count": 49,
   "id": "9e4b2c9d",
   "metadata": {},
   "outputs": [
    {
     "data": {
      "text/plain": [
       "array(['Lucky Strike', 'Pera', 'Kiwi', 'Maca Peruana'], dtype='<U12')"
      ]
     },
     "execution_count": 49,
     "metadata": {},
     "output_type": "execute_result"
    }
   ],
   "source": [
    "# Remover elementos\n",
    "lista_produtos = np.delete(lista_produtos,[4])\n",
    "lista_produtos"
   ]
  },
  {
   "cell_type": "code",
   "execution_count": null,
   "id": "893eab4d",
   "metadata": {},
   "outputs": [],
   "source": [
    "# Fim"
   ]
  }
 ],
 "metadata": {
  "kernelspec": {
   "display_name": "base",
   "language": "python",
   "name": "python3"
  },
  "language_info": {
   "codemirror_mode": {
    "name": "ipython",
    "version": 3
   },
   "file_extension": ".py",
   "mimetype": "text/x-python",
   "name": "python",
   "nbconvert_exporter": "python",
   "pygments_lexer": "ipython3",
   "version": "3.13.5"
  }
 },
 "nbformat": 4,
 "nbformat_minor": 5
}
