{
 "cells": [
  {
   "cell_type": "code",
   "execution_count": 1,
   "id": "4b3c66c4",
   "metadata": {},
   "outputs": [],
   "source": [
    "# Importando Biblioteca\n",
    "import numpy as np\n",
    "\n",
    "# documentação\n",
    "#help(np)\n"
   ]
  },
  {
   "cell_type": "code",
   "execution_count": 2,
   "id": "28722951",
   "metadata": {},
   "outputs": [
    {
     "data": {
      "text/plain": [
       "array([1, 2, 3, 4, 5, 6, 7, 8, 9])"
      ]
     },
     "execution_count": 2,
     "metadata": {},
     "output_type": "execute_result"
    }
   ],
   "source": [
    "# Criando um Array\n",
    "v1 = np.array(list(range(1,10)))\n",
    "\n",
    "v1 # Exibindo Array"
   ]
  },
  {
   "cell_type": "code",
   "execution_count": 3,
   "id": "426535c4",
   "metadata": {},
   "outputs": [
    {
     "data": {
      "text/plain": [
       "array([100, list([1, 2, 3, 4, 5, 6, 7, 8, 9])], dtype=object)"
      ]
     },
     "execution_count": 3,
     "metadata": {},
     "output_type": "execute_result"
    }
   ],
   "source": [
    "# Opção 2: Array de objetos (permite tipos mistos)  \n",
    "v2 = np.array([100, list(range(1,10))], dtype=object) # Adiciona itens em cascata\n",
    "\n",
    "v2"
   ]
  },
  {
   "cell_type": "code",
   "execution_count": 4,
   "id": "3ac13292",
   "metadata": {},
   "outputs": [
    {
     "name": "stdout",
     "output_type": "stream",
     "text": [
      "100\n",
      "[1, 2, 3, 4, 5, 6, 7, 8, 9]\n",
      "3\n"
     ]
    }
   ],
   "source": [
    "# Modos de Acessar os Elementos\n",
    "print(v2[0]) # Primeiro elemento\n",
    "print(v2[1]) # Lista inteira\n",
    "print(v2[1][2]) # Acessa Lista e Acessa terceiro elemento da Lista"
   ]
  },
  {
   "cell_type": "code",
   "execution_count": 5,
   "id": "c4112263",
   "metadata": {},
   "outputs": [
    {
     "name": "stdout",
     "output_type": "stream",
     "text": [
      "[[1]\n",
      " [2]\n",
      " [3]\n",
      " [4]\n",
      " [5]\n",
      " [6]\n",
      " [7]\n",
      " [8]\n",
      " [9]]\n",
      "[1 2 3 4 5 6 7 8 9]\n"
     ]
    }
   ],
   "source": [
    "# Mudar a forma do Array\n",
    "\n",
    "print(np.vstack(v2[1])) # Mudando a Lista de Horizontal para vertical\n",
    "\n",
    "print(np.hstack(v2[1])) # Mudando a Lista de Horizontal para Horizontal\n"
   ]
  },
  {
   "cell_type": "code",
   "execution_count": 6,
   "id": "345eab75",
   "metadata": {},
   "outputs": [
    {
     "data": {
      "text/plain": [
       "array([[1, 2, 3],\n",
       "       [4, 5, 6],\n",
       "       [7, 8, 9]])"
      ]
     },
     "execution_count": 6,
     "metadata": {},
     "output_type": "execute_result"
    }
   ],
   "source": [
    "v1.reshape(3,3) # Transformando Vetor em Matriz MxN = 3x3\n",
    "# Obrigatoriamente só se pode transforma vetor em matriz se o multiplo for do tamanho do vetor"
   ]
  },
  {
   "cell_type": "code",
   "execution_count": 7,
   "id": "6fddf4d2",
   "metadata": {},
   "outputs": [
    {
     "data": {
      "text/plain": [
       "array([ 1,  2,  3,  4,  5,  6,  7,  8,  9, 10])"
      ]
     },
     "execution_count": 7,
     "metadata": {},
     "output_type": "execute_result"
    }
   ],
   "source": [
    "v3 = np.array(list(range(1, 11)))\n",
    "v3"
   ]
  },
  {
   "cell_type": "code",
   "execution_count": 8,
   "id": "dfc836f7",
   "metadata": {},
   "outputs": [
    {
     "data": {
      "text/plain": [
       "array([[ 1,  2,  3,  4,  5],\n",
       "       [ 6,  7,  8,  9, 10]])"
      ]
     },
     "execution_count": 8,
     "metadata": {},
     "output_type": "execute_result"
    }
   ],
   "source": [
    "v3 = v3.reshape(2,5)\n",
    "\n",
    "v3"
   ]
  },
  {
   "cell_type": "code",
   "execution_count": 9,
   "id": "f95fdab6",
   "metadata": {},
   "outputs": [
    {
     "data": {
      "text/plain": [
       "array([[ 1.5,  2. ,  3. ],\n",
       "       [ 4. ,  5. ,  6. ],\n",
       "       [ 3. ,  2. ,  1. ],\n",
       "       [69. , 99. , 85. ]])"
      ]
     },
     "execution_count": 9,
     "metadata": {},
     "output_type": "execute_result"
    }
   ],
   "source": [
    "# Tipos de Dados\n",
    "# Matriz também é chamado de array multidimensional\n",
    "m1 = np.array([(1.5, 2, 3), (4, 5, 6), (3, 2, 1,), (69, 99, 85)]) # As linhas estão entre parenteses # A virgula quebra a linha\n",
    "\n",
    "m1"
   ]
  },
  {
   "cell_type": "code",
   "execution_count": 10,
   "id": "260e1ac1",
   "metadata": {},
   "outputs": [
    {
     "data": {
      "text/plain": [
       "array([[ 1,  2,  3],\n",
       "       [ 4,  5,  6],\n",
       "       [ 3,  2,  1],\n",
       "       [69, 99, 85]])"
      ]
     },
     "execution_count": 10,
     "metadata": {},
     "output_type": "execute_result"
    }
   ],
   "source": [
    "# Tipos de dados - devem ser definidos, se preciso na criação do array\n",
    "m2 = np.array([(1.5, 2, 3), (4, 5, 6), (3, 2, 1,), (69, 99, 85)], dtype=int) # Mesmo tendo 1.5 força a ser inteiro\n",
    "m2"
   ]
  },
  {
   "cell_type": "code",
   "execution_count": 11,
   "id": "cd57b58d",
   "metadata": {},
   "outputs": [
    {
     "name": "stdout",
     "output_type": "stream",
     "text": [
      "Array com Zeros\n",
      "[0 0 0 0 0 0 0 0 0 0 0 0 0 0 0]\n",
      "\n",
      "Array Com 1\n",
      "[1. 1. 1. 1. 1.]\n",
      "\n",
      "Matriz 5x5 preenchida com 1\n",
      "[[1. 1. 1. 1. 1.]\n",
      " [1. 1. 1. 1. 1.]\n",
      " [1. 1. 1. 1. 1.]\n",
      " [1. 1. 1. 1. 1.]\n",
      " [1. 1. 1. 1. 1.]]\n",
      "\n",
      "Matriz ou vetor com numeros iguais\n",
      "[[42 42]\n",
      " [42 42]\n",
      " [42 42]]\n",
      "\n",
      "Matriz identidade\n",
      "[[1. 0. 0. 0. 0.]\n",
      " [0. 1. 0. 0. 0.]\n",
      " [0. 0. 1. 0. 0.]\n",
      " [0. 0. 0. 1. 0.]\n",
      " [0. 0. 0. 0. 1.]]\n",
      "\n",
      "Arrays Seguenciais - com seguencia definida\n",
      "[100 102 104 106 108 110 112 114 116 118]\n",
      "\n",
      "Ou com seguencia definida pelo numpy\n",
      "[ 0.    1.25  2.5   3.75  5.    6.25  7.5   8.75 10.  ]\n"
     ]
    }
   ],
   "source": [
    "# Criando Arrays predefinidos\n",
    "# formatos como valores predefinidos\n",
    "print(\"Array com Zeros\")\n",
    "print(np.zeros(15, dtype=int))\n",
    "print()\n",
    "print(\"Array Com 1\")\n",
    "print(np.ones(5))\n",
    "print()\n",
    "print(\"Matriz 5x5 preenchida com 1\")\n",
    "print(np.ones((5,5)))\n",
    "print()\n",
    "print(\"Matriz ou vetor com numeros iguais\")\n",
    "print(np.full((3,2), 42))\n",
    "print()\n",
    "print(\"Matriz identidade\") # Valor da diagonal principal e preenchida de 1\n",
    "print(np.eye(5,5))\n",
    "print()\n",
    "print(\"Arrays Seguenciais - com seguencia definida\")\n",
    "print(np.arange(100,120,2)) # Um array que vai de 100 a 118 com intervalo de 2\n",
    "print()\n",
    "print(\"Ou com seguencia definida pelo numpy\")\n",
    "print(np.linspace(0,10,9)) # Seguencia de 0 a 10 com quantidade de 9 intervalos"
   ]
  },
  {
   "cell_type": "code",
   "execution_count": 12,
   "id": "944de525",
   "metadata": {},
   "outputs": [
    {
     "name": "stdout",
     "output_type": "stream",
     "text": [
      "Matriz com numeros aleatorios de 0 a 1\n",
      "[[0.36516526 0.49608085]\n",
      " [0.3661371  0.69655127]]\n",
      "\n",
      "Números inteiros Aleatorios\n",
      "[45 21 52 18  1 52]\n",
      "\n",
      "Numeros Aleatorios de Distribuição normal\n",
      "0.5596792922893674\n",
      "\n",
      "Numero aleatorios de distribuição normal\n",
      "[ 0.37348053 -0.15547905 -1.72046311]\n",
      "\n",
      "Numeros aleatorios distribuição uniforme\n",
      "[0.84307427 0.48232397 0.56548186 0.79253007 0.5239774 ]\n",
      "\n",
      "Criando matrizes de numeros aleatorios da distribuição normal com reshape\n",
      "[[-0.31265449  1.97354323]\n",
      " [ 0.32691445  1.01067925]\n",
      " [-0.8928406   1.5270254 ]\n",
      " [-1.00879645  0.77093771]]\n"
     ]
    }
   ],
   "source": [
    "# Criando arrays aleatorios\n",
    "print(\"Matriz com numeros aleatorios de 0 a 1\")\n",
    "print(np.random.random((2,2)))\n",
    "print()\n",
    "print(\"Números inteiros Aleatorios\")\n",
    "print(np.random.randint(1, 60, size=6)) # Numeros aleatorios de 1 a 60 com vetor de espaço 6\n",
    "print()\n",
    "print(\"Numeros Aleatorios de Distribuição normal\")\n",
    "print(np.random.normal())\n",
    "print()\n",
    "print(\"Numero aleatorios de distribuição normal\")\n",
    "print(np.random.randn(3)) # Gera 3 numeros\n",
    "print()\n",
    "print(\"Numeros aleatorios distribuição uniforme\")\n",
    "print(np.random.uniform(size=5))\n",
    "print()\n",
    "print(\"Criando matrizes de numeros aleatorios da distribuição normal com reshape\")\n",
    "print(np.random.randn(8).reshape(4,2))"
   ]
  },
  {
   "cell_type": "code",
   "execution_count": 13,
   "id": "99c2ae16",
   "metadata": {},
   "outputs": [],
   "source": [
    "# Mas para que serve tudo isso ? \n",
    "# Analisando em Gráficos\n",
    "%matplotlib inline\n",
    "\n",
    "import matplotlib.pyplot as plt\n"
   ]
  },
  {
   "cell_type": "code",
   "execution_count": 14,
   "id": "514c6a6a",
   "metadata": {},
   "outputs": [
    {
     "data": {
      "image/png": "[encoded data removed]",
      "text/plain": [
       "<Figure size 640x480 with 1 Axes>"
      ]
     },
     "metadata": {},
     "output_type": "display_data"
    }
   ],
   "source": [
    "data = np.random.randn(50000)\n",
    "\n",
    "hx, hy, _ = plt.hist(data, bins=25, density=1, color=\"blue\") # Chamando o Histograma Freguencia de ocorrencia dos numeros da serie\n",
    "\n",
    "plt.ylim(0.0,max(hx)+0.05)\n",
    "plt.title('Numeros aleatorios da distribuição Normal')\n",
    "plt.grid()\n",
    "plt.show()"
   ]
  },
  {
   "cell_type": "code",
   "execution_count": 15,
   "id": "3e4fbed8",
   "metadata": {},
   "outputs": [],
   "source": [
    "# Fim"
   ]
  }
 ],
 "metadata": {
  "kernelspec": {
   "display_name": "base",
   "language": "python",
   "name": "python3"
  },
  "language_info": {
   "codemirror_mode": {
    "name": "ipython",
    "version": 3
   },
   "file_extension": ".py",
   "mimetype": "text/x-python",
   "name": "python",
   "nbconvert_exporter": "python",
   "pygments_lexer": "ipython3",
   "version": "3.13.5"
  }
 },
 "nbformat": 4,
 "nbformat_minor": 5
}
