{
 "cells": [
  {
   "cell_type": "code",
   "execution_count": null,
   "id": "9770d529",
   "metadata": {},
   "outputs": [],
   "source": [
    "# Importando bibliotecas\n",
    "import numpy as np\n",
    "import os"
   ]
  },
  {
   "cell_type": "code",
   "execution_count": 3,
   "id": "aaa004d4",
   "metadata": {},
   "outputs": [],
   "source": [
    "os.chdir(\"C:\\\\Users\\\\acer\\\\Desktop\\\\vs_projects\\\\OMNP-Outspoken-Market-Na-Pratica\\\\Numpy\\\\data\")"
   ]
  },
  {
   "cell_type": "code",
   "execution_count": 4,
   "id": "907f5ed7",
   "metadata": {},
   "outputs": [],
   "source": [
    "# Carregando arquivo\n",
    "bitcoin = np.genfromtxt(\"BTCUSD_08092019.csv\", delimiter=';')"
   ]
  },
  {
   "cell_type": "code",
   "execution_count": 5,
   "id": "66265322",
   "metadata": {},
   "outputs": [],
   "source": [
    "# Para Salvar Arquivo\n",
    "# np.savetxt(\"BTCUSD_08092019.csv\", bitcoin, delimiter=\";\")"
   ]
  },
  {
   "cell_type": "code",
   "execution_count": 6,
   "id": "835765ca",
   "metadata": {},
   "outputs": [
    {
     "name": "stdout",
     "output_type": "stream",
     "text": [
      "Shape:  (179,)\n",
      "len:  179\n",
      "ndim:  1\n",
      "size:  179\n",
      "dtype:  float64\n"
     ]
    }
   ],
   "source": [
    "# Investigando Array\n",
    "print(\"Shape: \", bitcoin.shape)\n",
    "print(\"len: \", len(bitcoin))\n",
    "print(\"ndim: \", bitcoin.ndim)\n",
    "print(\"size: \", bitcoin.size)\n",
    "print(\"dtype: \", bitcoin.dtype)"
   ]
  },
  {
   "cell_type": "code",
   "execution_count": 33,
   "id": "3f4aa6e4",
   "metadata": {},
   "outputs": [
    {
     "name": "stdout",
     "output_type": "stream",
     "text": [
      "Array [0 1 2 3 4]\n",
      "\n",
      "Operações Aritmeticas\n",
      "\n",
      "Adição\n",
      "ops + 2 [2 3 4 5 6]\n",
      "Metodo Add = [2 3 4 5 6]\n",
      "\n",
      "Subtração\n",
      "ops - 2 = [-2 -1  0  1  2]\n",
      "Metodo Subtrac = [-2 -1  0  1  2]\n",
      "\n",
      "Multiplicação\n",
      "ops * 2 = [0 2 4 6 8]\n",
      "Metodo Multiply = [0 2 4 6 8]\n",
      "\n",
      "Divisao\n",
      "ops / 2 = [0.  0.5 1.  1.5 2. ]\n",
      "Metodo divide [0.  0.5 1.  1.5 2. ]\n",
      "\n",
      "Inteiro da Divisão\n",
      "ops // 2 = [0 0 1 1 2]\n",
      "\n",
      "Negativo\n",
      "-x   = [ 0 -1 -2 -3 -4]\n",
      "\n",
      "Exponeciação\n",
      "ops ** 2 = [ 0  1  4  9 16]\n",
      "\n",
      "Modulo: \n",
      "ops % 2 = [0 1 0 1 0]\n",
      "\n",
      "e elevado a:\n",
      "e^x = [ 1.          2.71828183  7.3890561  20.08553692 54.59815003]\n",
      "\n",
      "Raiz Quadrada\n",
      "Raiz = [0.         1.         1.41421356 1.73205081 2.        ]\n",
      "\n",
      "Seno\n",
      "Seno de ops =  [ 0.          0.84147098  0.90929743  0.14112001 -0.7568025 ]\n",
      "\n",
      "Cosseno\n",
      "Seno de ops:  [ 1.          0.54030231 -0.41614684 -0.9899925  -0.65364362]\n",
      "\n",
      "Tangente\n",
      "Tangente de ops [ 0.          1.55740772 -2.18503986 -0.14254654  1.15782128]\n",
      "\n",
      "Logaritmo Natural\n",
      "ln =  [      -inf 0.         0.69314718 1.09861229 1.38629436]\n",
      "\n",
      "Logaritmo base 2\n",
      "log2 =  [     -inf 0.        1.        1.5849625 2.       ]\n",
      "\n",
      "Logaritmo base 10\n",
      "ln =  [      -inf 0.         0.30103    0.47712125 0.60205999]\n",
      "\n"
     ]
    },
    {
     "name": "stderr",
     "output_type": "stream",
     "text": [
      "C:\\Users\\acer\\AppData\\Local\\Temp\\ipykernel_16956\\1638702499.py:65: RuntimeWarning: divide by zero encountered in log\n",
      "  print(\"ln = \", np.log(ops))\n",
      "C:\\Users\\acer\\AppData\\Local\\Temp\\ipykernel_16956\\1638702499.py:69: RuntimeWarning: divide by zero encountered in log2\n",
      "  print(\"log2 = \", np.log2(ops))\n",
      "C:\\Users\\acer\\AppData\\Local\\Temp\\ipykernel_16956\\1638702499.py:73: RuntimeWarning: divide by zero encountered in log10\n",
      "  print(\"ln = \", np.log10(ops))\n"
     ]
    }
   ],
   "source": [
    "ops = np.arange(5)\n",
    "print(\"Array\", ops)\n",
    "print()\n",
    "\n",
    "print(\"Operações Aritmeticas\")\n",
    "print()\n",
    "\n",
    "print(\"Adição\")\n",
    "print(\"ops + 2\", ops + 2) # Adicionou mais 2 em todos os elementos do Array\n",
    "print(\"Metodo Add =\", np.add(ops, 2))\n",
    "print()\n",
    "\n",
    "print(\"Subtração\")\n",
    "print(\"ops - 2 =\", ops - 2) # Subtraiu 2 de todos os elementos do Array\n",
    "print(\"Metodo Subtrac =\", np.subtract(ops, 2))\n",
    "print()\n",
    "\n",
    "print(\"Multiplicação\")\n",
    "print(\"ops * 2 =\", ops * 2)\n",
    "print(\"Metodo Multiply =\", np.multiply(ops, 2))\n",
    "print()\n",
    "\n",
    "print(\"Divisao\")\n",
    "print(\"ops / 2 =\", ops / 2)\n",
    "print(\"Metodo divide\", np.divide(ops, 2))\n",
    "print()\n",
    "\n",
    "print(\"Inteiro da Divisão\")\n",
    "print(\"ops // 2 =\", ops //2)\n",
    "print()\n",
    "\n",
    "print(\"Negativo\")\n",
    "print(\"-x   =\", -ops)\n",
    "print()\n",
    "\n",
    "print(\"Exponeciação\")\n",
    "print(\"ops ** 2 =\", ops ** 2)\n",
    "print()\n",
    "\n",
    "print(\"Modulo: \")\n",
    "print(\"ops % 2 =\", ops % 2)\n",
    "print()\n",
    "\n",
    "print(\"e elevado a:\")\n",
    "print(\"e^x =\", np.exp(ops))\n",
    "print()\n",
    "\n",
    "print(\"Raiz Quadrada\")\n",
    "print(\"Raiz =\", np.sqrt(ops))\n",
    "print()\n",
    "\n",
    "print(\"Seno\")\n",
    "print(\"Seno de ops = \", np.sin(ops))\n",
    "print()\n",
    "\n",
    "print(\"Cosseno\")\n",
    "print(\"Seno de ops: \", np.cos(ops))\n",
    "print()\n",
    "\n",
    "print(\"Tangente\")\n",
    "print(\"Tangente de ops\", np.tan(ops))\n",
    "print()\n",
    "\n",
    "print(\"Logaritmo Natural\")\n",
    "print(\"ln = \", np.log(ops))\n",
    "print()\n",
    "\n",
    "print(\"Logaritmo base 2\")\n",
    "print(\"log2 = \", np.log2(ops))\n",
    "print()\n",
    "\n",
    "print(\"Logaritmo base 10\")\n",
    "print(\"ln = \", np.log10(ops))\n",
    "print()"
   ]
  },
  {
   "cell_type": "code",
   "execution_count": null,
   "id": "ddbedc77",
   "metadata": {},
   "outputs": [],
   "source": [
    "# Fim"
   ]
  }
 ],
 "metadata": {
  "kernelspec": {
   "display_name": "base",
   "language": "python",
   "name": "python3"
  },
  "language_info": {
   "codemirror_mode": {
    "name": "ipython",
    "version": 3
   },
   "file_extension": ".py",
   "mimetype": "text/x-python",
   "name": "python",
   "nbconvert_exporter": "python",
   "pygments_lexer": "ipython3",
   "version": "3.13.5"
  }
 },
 "nbformat": 4,
 "nbformat_minor": 5
}
